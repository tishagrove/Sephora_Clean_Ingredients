{
 "cells": [
  {
   "cell_type": "code",
   "execution_count": 2,
   "id": "51bd4e93",
   "metadata": {},
   "outputs": [],
   "source": [
    "import pandas as pd\n",
    "import requests\n",
    "from bs4 import BeautifulSoup"
   ]
  },
  {
   "cell_type": "code",
   "execution_count": 3,
   "id": "f39c3ad1",
   "metadata": {},
   "outputs": [
    {
     "data": {
      "text/plain": [
       "bs4.BeautifulSoup"
      ]
     },
     "execution_count": 3,
     "metadata": {},
     "output_type": "execute_result"
    }
   ],
   "source": [
    "# use the requests library's .get() method to request the data from scrapethissite, store the response as a variable res\n",
    "res = requests.get(\"https://www.safecosmetics.org/get-the-facts/chem-of-concern/\")\n",
    "# Get the text of the HTML of the res variable by using .text and store this as a variable html\n",
    "html = res.text\n",
    "# Create a soup of the html text by using BeautifulSoup(). Store this as a variable soup.\n",
    "soup = BeautifulSoup(html)\n",
    "\n",
    "type(soup)"
   ]
  },
  {
   "cell_type": "code",
   "execution_count": 4,
   "id": "ef6eff85",
   "metadata": {},
   "outputs": [],
   "source": [
    "ingred_blocks = soup.find_all(class_=\"teaser-wrap\")"
   ]
  },
  {
   "cell_type": "code",
   "execution_count": 5,
   "id": "c10b4cfe",
   "metadata": {},
   "outputs": [
    {
     "name": "stdout",
     "output_type": "stream",
     "text": [
      "<section class=\"teaser-wrap\">\n",
      "<header>\n",
      "<h2 class=\"entry-title\"><a href=\"https://www.safecosmetics.org/get-the-facts/chemicals-of-concern/14-dioxane/\">1,4-dioxane</a></h2>\n",
      "</header>\n",
      "<div class=\"teaser-content\">Not listed on ingredient labels, 1,4-dioxane is a contaminant linked to cancer found in products that create suds, such as shampoo and liquid soap. </div><!-- /teaser-content -->\n",
      "</section>\n"
     ]
    }
   ],
   "source": [
    "\n",
    "first_block = ingred_blocks[0]\n",
    "print(first_block)\n"
   ]
  },
  {
   "cell_type": "code",
   "execution_count": 6,
   "id": "5efd51e4",
   "metadata": {},
   "outputs": [
    {
     "data": {
      "text/plain": [
       "bs4.element.Tag"
      ]
     },
     "execution_count": 6,
     "metadata": {},
     "output_type": "execute_result"
    }
   ],
   "source": [
    "type(first_block)"
   ]
  },
  {
   "cell_type": "code",
   "execution_count": 7,
   "id": "6a3ad533",
   "metadata": {},
   "outputs": [
    {
     "data": {
      "text/plain": [
       "'1,4-dioxane\\n\\nNot listed on ingredient labels, 1,4-dioxane is a contaminant linked to cancer found in products that create suds, such as shampoo and liquid soap.'"
      ]
     },
     "execution_count": 7,
     "metadata": {},
     "output_type": "execute_result"
    }
   ],
   "source": [
    "ingred_blocks[0].text.strip()"
   ]
  },
  {
   "cell_type": "code",
   "execution_count": 8,
   "id": "a3ec1a9d",
   "metadata": {},
   "outputs": [
    {
     "name": "stdout",
     "output_type": "stream",
     "text": [
      "1,4-dioxane\n"
     ]
    }
   ],
   "source": [
    "ingredient = first_block.find(class_=\"entry-title\").text\n",
    "print(ingredient)"
   ]
  },
  {
   "cell_type": "code",
   "execution_count": 9,
   "id": "189fa7cc",
   "metadata": {},
   "outputs": [
    {
     "name": "stdout",
     "output_type": "stream",
     "text": [
      "Not listed on ingredient labels, 1,4-dioxane is a contaminant linked to cancer found in products that create suds, such as shampoo and liquid soap. \n"
     ]
    }
   ],
   "source": [
    "description = first_block.find(class_=\"teaser-content\").text\n",
    "print(description)"
   ]
  },
  {
   "cell_type": "code",
   "execution_count": 10,
   "id": "a639864b",
   "metadata": {},
   "outputs": [
    {
     "name": "stdout",
     "output_type": "stream",
     "text": [
      "{'Ingredient Name': '1,4-dioxane', 'Description': 'Not listed on ingredient labels, 1,4-dioxane is a contaminant linked to cancer found in products that create suds, such as shampoo and liquid soap. '}\n"
     ]
    }
   ],
   "source": [
    "first_row = {\n",
    "    \"Ingredient Name\": ingredient,\n",
    "    \"Description\" : description,\n",
    "}\n",
    "\n",
    "print(first_row)"
   ]
  },
  {
   "cell_type": "code",
   "execution_count": 11,
   "id": "b545e74d",
   "metadata": {},
   "outputs": [
    {
     "name": "stdout",
     "output_type": "stream",
     "text": [
      "[{'Ingredient Name': '1,4-dioxane', 'Description': 'Not listed on ingredient labels, 1,4-dioxane is a contaminant linked to cancer found in products that create suds, such as shampoo and liquid soap. '}, {'Ingredient Name': 'Acrylates', 'Description': 'Acrylates (ethyl acrylate, ethyl methacrylate, and methyl methacrylate) are ingredients found in artificial nail products. We are mainly...'}, {'Ingredient Name': 'Benzophenone & Related Compounds', 'Description': 'A chemical linked to cancer, benzophenone is used in cosmetics such as lip balm and nail polish to protect the products from UV light.'}, {'Ingredient Name': 'Butylated Compounds', 'Description': 'Concerns about organ-system toxicity and endocrine disruption led the European Union to prohibit the preservative butylated hydroxyanisole (BHA) from cosmetics. '}, {'Ingredient Name': 'Carbon Black', 'Description': 'Carbon black is a dark black powder used as a pigment in cosmetics such as eyeliner, mascara and lipstick that has been linked to increased incidence of cancer.'}]\n"
     ]
    }
   ],
   "source": [
    "ingredient_data = []\n",
    "# iterate over country_data. For each iteration, create a variable row that is a dictionary that has the capital and area values for that specific row, then append the new row to country_data.\n",
    "for block in ingred_blocks:\n",
    "    row = {\n",
    "        \"Ingredient Name\": block.find(class_=\"entry-title\").text,\n",
    "        \"Description\": block.find(class_=\"teaser-content\").text,\n",
    "    }\n",
    "\n",
    "    ingredient_data.append(row)\n",
    "print(ingredient_data[0:5])\n",
    "\n"
   ]
  },
  {
   "cell_type": "code",
   "execution_count": 12,
   "id": "9c87b2a5",
   "metadata": {},
   "outputs": [
    {
     "data": {
      "text/html": [
       "<div>\n",
       "<style scoped>\n",
       "    .dataframe tbody tr th:only-of-type {\n",
       "        vertical-align: middle;\n",
       "    }\n",
       "\n",
       "    .dataframe tbody tr th {\n",
       "        vertical-align: top;\n",
       "    }\n",
       "\n",
       "    .dataframe thead th {\n",
       "        text-align: right;\n",
       "    }\n",
       "</style>\n",
       "<table border=\"1\" class=\"dataframe\">\n",
       "  <thead>\n",
       "    <tr style=\"text-align: right;\">\n",
       "      <th></th>\n",
       "      <th>Ingredient Name</th>\n",
       "      <th>Description</th>\n",
       "    </tr>\n",
       "  </thead>\n",
       "  <tbody>\n",
       "    <tr>\n",
       "      <th>0</th>\n",
       "      <td>1,4-dioxane</td>\n",
       "      <td>Not listed on ingredient labels, 1,4-dioxane i...</td>\n",
       "    </tr>\n",
       "    <tr>\n",
       "      <th>1</th>\n",
       "      <td>Acrylates</td>\n",
       "      <td>Acrylates (ethyl acrylate, ethyl methacrylate,...</td>\n",
       "    </tr>\n",
       "    <tr>\n",
       "      <th>2</th>\n",
       "      <td>Benzophenone &amp; Related Compounds</td>\n",
       "      <td>A chemical linked to cancer, benzophenone is u...</td>\n",
       "    </tr>\n",
       "    <tr>\n",
       "      <th>3</th>\n",
       "      <td>Butylated Compounds</td>\n",
       "      <td>Concerns about organ-system toxicity and endoc...</td>\n",
       "    </tr>\n",
       "    <tr>\n",
       "      <th>4</th>\n",
       "      <td>Carbon Black</td>\n",
       "      <td>Carbon black is a dark black powder used as a ...</td>\n",
       "    </tr>\n",
       "    <tr>\n",
       "      <th>5</th>\n",
       "      <td>Carcinogens in Cosmetics</td>\n",
       "      <td>The laws governing cosmetics and personal care...</td>\n",
       "    </tr>\n",
       "    <tr>\n",
       "      <th>6</th>\n",
       "      <td>Coal Tar</td>\n",
       "      <td>Coal tar is a known carcinogen found in shampo...</td>\n",
       "    </tr>\n",
       "    <tr>\n",
       "      <th>7</th>\n",
       "      <td>Ethanolamine Compounds (MEA, DEA, TEA And Others)</td>\n",
       "      <td>Diethanolamine (DEA) is a type of ethanolamine...</td>\n",
       "    </tr>\n",
       "    <tr>\n",
       "      <th>8</th>\n",
       "      <td>Ethoxylated Ingredients</td>\n",
       "      <td>Ethoxylation is the process of reacting ethyle...</td>\n",
       "    </tr>\n",
       "    <tr>\n",
       "      <th>9</th>\n",
       "      <td>Formaldehyde And Formaldehyde-Releasing Preser...</td>\n",
       "      <td>Cancer-causing formaldehyde and formaldehyde-r...</td>\n",
       "    </tr>\n",
       "    <tr>\n",
       "      <th>10</th>\n",
       "      <td>Fragrance</td>\n",
       "      <td>Many products list “fragrance” on the label, b...</td>\n",
       "    </tr>\n",
       "    <tr>\n",
       "      <th>11</th>\n",
       "      <td>Homosalate</td>\n",
       "      <td>Homosalate is a widely used chemical in sunscr...</td>\n",
       "    </tr>\n",
       "    <tr>\n",
       "      <th>12</th>\n",
       "      <td>Hydroquinone</td>\n",
       "      <td>One of the most toxic ingredients used in pers...</td>\n",
       "    </tr>\n",
       "    <tr>\n",
       "      <th>13</th>\n",
       "      <td>Lead And Other Heavy Metals</td>\n",
       "      <td>Heavy metals like lead, arsenic, mercury, are ...</td>\n",
       "    </tr>\n",
       "    <tr>\n",
       "      <th>14</th>\n",
       "      <td>Methylisothiazolinone and Methylchloroisothiaz...</td>\n",
       "      <td>They may be hard to pronounce, but they can be...</td>\n",
       "    </tr>\n",
       "    <tr>\n",
       "      <th>15</th>\n",
       "      <td>Mica</td>\n",
       "      <td>Mica is a naturally occurring mineral dust oft...</td>\n",
       "    </tr>\n",
       "    <tr>\n",
       "      <th>16</th>\n",
       "      <td>Nail polish removers</td>\n",
       "      <td>A serious concern for nail salon workers and p...</td>\n",
       "    </tr>\n",
       "    <tr>\n",
       "      <th>17</th>\n",
       "      <td>Nanomaterials</td>\n",
       "      <td>Insoluble nanoparticles in cosmetic products a...</td>\n",
       "    </tr>\n",
       "    <tr>\n",
       "      <th>18</th>\n",
       "      <td>Nitrosamines</td>\n",
       "      <td>Nitrosamines are impurities linked to cancer t...</td>\n",
       "    </tr>\n",
       "    <tr>\n",
       "      <th>19</th>\n",
       "      <td>Octinoxate</td>\n",
       "      <td>An endocrine disruptor that mimics estrogen, o...</td>\n",
       "    </tr>\n",
       "    <tr>\n",
       "      <th>20</th>\n",
       "      <td>Parabens</td>\n",
       "      <td>Parabens are preservatives used in a wide vari...</td>\n",
       "    </tr>\n",
       "    <tr>\n",
       "      <th>21</th>\n",
       "      <td>PABA</td>\n",
       "      <td>PABA and PABA derivatives are commonly used in...</td>\n",
       "    </tr>\n",
       "    <tr>\n",
       "      <th>22</th>\n",
       "      <td>Petrolatum, petroleum jelly</td>\n",
       "      <td>Petrolatum, or petroleum jelly, derived from p...</td>\n",
       "    </tr>\n",
       "    <tr>\n",
       "      <th>23</th>\n",
       "      <td>Phenoxyethanol</td>\n",
       "      <td>Phenoxyethanol is used as a preservative in co...</td>\n",
       "    </tr>\n",
       "    <tr>\n",
       "      <th>24</th>\n",
       "      <td>Polyacrylamide</td>\n",
       "      <td>Found in facial moisturizers, anti-aging produ...</td>\n",
       "    </tr>\n",
       "    <tr>\n",
       "      <th>25</th>\n",
       "      <td>Polytetrafluoroethylene (PTFE, Aka Teflon®)</td>\n",
       "      <td>Teflon® in your makeup? Yuck.</td>\n",
       "    </tr>\n",
       "    <tr>\n",
       "      <th>26</th>\n",
       "      <td>P-Phenylenediamine</td>\n",
       "      <td>Consumers and salon workers may be exposed to ...</td>\n",
       "    </tr>\n",
       "    <tr>\n",
       "      <th>27</th>\n",
       "      <td>Preservatives</td>\n",
       "      <td>Preservatives may be used in cosmetics to prev...</td>\n",
       "    </tr>\n",
       "    <tr>\n",
       "      <th>28</th>\n",
       "      <td>Phthalates</td>\n",
       "      <td>Banned from cosmetics in the European Union, p...</td>\n",
       "    </tr>\n",
       "    <tr>\n",
       "      <th>29</th>\n",
       "      <td>Quaternium-15</td>\n",
       "      <td>Quaternium-15, a known skin toxicant and aller...</td>\n",
       "    </tr>\n",
       "    <tr>\n",
       "      <th>30</th>\n",
       "      <td>Styrene Acrylates Copolymer</td>\n",
       "      <td>Styrene acrylates copolymer is a chain of poly...</td>\n",
       "    </tr>\n",
       "    <tr>\n",
       "      <th>31</th>\n",
       "      <td>Red List</td>\n",
       "      <td>You shouldn’t need a PhD in chemistry to choos...</td>\n",
       "    </tr>\n",
       "    <tr>\n",
       "      <th>32</th>\n",
       "      <td>Resorcinol</td>\n",
       "      <td>Resorcinol is commonly used in hair dyes and a...</td>\n",
       "    </tr>\n",
       "    <tr>\n",
       "      <th>33</th>\n",
       "      <td>Retinol and Retinol Compounds</td>\n",
       "      <td>Retinol is the chemical name of the essential ...</td>\n",
       "    </tr>\n",
       "    <tr>\n",
       "      <th>34</th>\n",
       "      <td>Synthetic Musks</td>\n",
       "      <td>Synthetic musks are chemicals added as scents ...</td>\n",
       "    </tr>\n",
       "    <tr>\n",
       "      <th>35</th>\n",
       "      <td>Talc</td>\n",
       "      <td>Some talc may contain the known carcinogen asb...</td>\n",
       "    </tr>\n",
       "    <tr>\n",
       "      <th>36</th>\n",
       "      <td>Titanium Dioxide</td>\n",
       "      <td>In its inhalable form, as it is in loose powde...</td>\n",
       "    </tr>\n",
       "    <tr>\n",
       "      <th>37</th>\n",
       "      <td>Toluene</td>\n",
       "      <td>Found in nail polish and hair dyes, toluene is...</td>\n",
       "    </tr>\n",
       "    <tr>\n",
       "      <th>38</th>\n",
       "      <td>Triclosan</td>\n",
       "      <td>Triclosan, which has been linked to hormone di...</td>\n",
       "    </tr>\n",
       "  </tbody>\n",
       "</table>\n",
       "</div>"
      ],
      "text/plain": [
       "                                      Ingredient Name  \\\n",
       "0                                         1,4-dioxane   \n",
       "1                                           Acrylates   \n",
       "2                    Benzophenone & Related Compounds   \n",
       "3                                 Butylated Compounds   \n",
       "4                                        Carbon Black   \n",
       "5                            Carcinogens in Cosmetics   \n",
       "6                                            Coal Tar   \n",
       "7   Ethanolamine Compounds (MEA, DEA, TEA And Others)   \n",
       "8                             Ethoxylated Ingredients   \n",
       "9   Formaldehyde And Formaldehyde-Releasing Preser...   \n",
       "10                                          Fragrance   \n",
       "11                                         Homosalate   \n",
       "12                                       Hydroquinone   \n",
       "13                        Lead And Other Heavy Metals   \n",
       "14  Methylisothiazolinone and Methylchloroisothiaz...   \n",
       "15                                               Mica   \n",
       "16                               Nail polish removers   \n",
       "17                                      Nanomaterials   \n",
       "18                                       Nitrosamines   \n",
       "19                                         Octinoxate   \n",
       "20                                           Parabens   \n",
       "21                                               PABA   \n",
       "22                        Petrolatum, petroleum jelly   \n",
       "23                                     Phenoxyethanol   \n",
       "24                                     Polyacrylamide   \n",
       "25        Polytetrafluoroethylene (PTFE, Aka Teflon®)   \n",
       "26                                 P-Phenylenediamine   \n",
       "27                                      Preservatives   \n",
       "28                                         Phthalates   \n",
       "29                                      Quaternium-15   \n",
       "30                        Styrene Acrylates Copolymer   \n",
       "31                                           Red List   \n",
       "32                                         Resorcinol   \n",
       "33                      Retinol and Retinol Compounds   \n",
       "34                                    Synthetic Musks   \n",
       "35                                               Talc   \n",
       "36                                   Titanium Dioxide   \n",
       "37                                            Toluene   \n",
       "38                                          Triclosan   \n",
       "\n",
       "                                          Description  \n",
       "0   Not listed on ingredient labels, 1,4-dioxane i...  \n",
       "1   Acrylates (ethyl acrylate, ethyl methacrylate,...  \n",
       "2   A chemical linked to cancer, benzophenone is u...  \n",
       "3   Concerns about organ-system toxicity and endoc...  \n",
       "4   Carbon black is a dark black powder used as a ...  \n",
       "5   The laws governing cosmetics and personal care...  \n",
       "6   Coal tar is a known carcinogen found in shampo...  \n",
       "7   Diethanolamine (DEA) is a type of ethanolamine...  \n",
       "8   Ethoxylation is the process of reacting ethyle...  \n",
       "9   Cancer-causing formaldehyde and formaldehyde-r...  \n",
       "10  Many products list “fragrance” on the label, b...  \n",
       "11  Homosalate is a widely used chemical in sunscr...  \n",
       "12  One of the most toxic ingredients used in pers...  \n",
       "13  Heavy metals like lead, arsenic, mercury, are ...  \n",
       "14  They may be hard to pronounce, but they can be...  \n",
       "15  Mica is a naturally occurring mineral dust oft...  \n",
       "16  A serious concern for nail salon workers and p...  \n",
       "17  Insoluble nanoparticles in cosmetic products a...  \n",
       "18  Nitrosamines are impurities linked to cancer t...  \n",
       "19  An endocrine disruptor that mimics estrogen, o...  \n",
       "20  Parabens are preservatives used in a wide vari...  \n",
       "21  PABA and PABA derivatives are commonly used in...  \n",
       "22  Petrolatum, or petroleum jelly, derived from p...  \n",
       "23  Phenoxyethanol is used as a preservative in co...  \n",
       "24  Found in facial moisturizers, anti-aging produ...  \n",
       "25                     Teflon® in your makeup? Yuck.   \n",
       "26  Consumers and salon workers may be exposed to ...  \n",
       "27  Preservatives may be used in cosmetics to prev...  \n",
       "28  Banned from cosmetics in the European Union, p...  \n",
       "29  Quaternium-15, a known skin toxicant and aller...  \n",
       "30  Styrene acrylates copolymer is a chain of poly...  \n",
       "31  You shouldn’t need a PhD in chemistry to choos...  \n",
       "32  Resorcinol is commonly used in hair dyes and a...  \n",
       "33  Retinol is the chemical name of the essential ...  \n",
       "34  Synthetic musks are chemicals added as scents ...  \n",
       "35  Some talc may contain the known carcinogen asb...  \n",
       "36  In its inhalable form, as it is in loose powde...  \n",
       "37  Found in nail polish and hair dyes, toluene is...  \n",
       "38  Triclosan, which has been linked to hormone di...  "
      ]
     },
     "execution_count": 12,
     "metadata": {},
     "output_type": "execute_result"
    }
   ],
   "source": [
    "ingredient_df = pd.DataFrame(ingredient_data)\n",
    "# Preview your results using .head()\n",
    "ingredient_df"
   ]
  },
  {
   "cell_type": "code",
   "execution_count": null,
   "id": "411df1a8",
   "metadata": {},
   "outputs": [],
   "source": []
  }
 ],
 "metadata": {
  "kernelspec": {
   "display_name": "Python 3 (ipykernel)",
   "language": "python",
   "name": "python3"
  },
  "language_info": {
   "codemirror_mode": {
    "name": "ipython",
    "version": 3
   },
   "file_extension": ".py",
   "mimetype": "text/x-python",
   "name": "python",
   "nbconvert_exporter": "python",
   "pygments_lexer": "ipython3",
   "version": "3.9.7"
  }
 },
 "nbformat": 4,
 "nbformat_minor": 5
}
